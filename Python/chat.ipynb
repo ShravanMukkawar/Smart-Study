{
 "cells": [
  {
   "cell_type": "code",
   "execution_count": 17,
   "id": "4076c0e6",
   "metadata": {},
   "outputs": [],
   "source": [
    "import os\n",
    "import streamlit as st\n",
    "from langchain_groq import ChatGroq\n",
    "from langchain_community.embeddings import OllamaEmbeddings\n",
    "from langchain.text_splitter import RecursiveCharacterTextSplitter\n",
    "from langchain.chains.combine_documents import create_stuff_documents_chain\n",
    "from langchain_core.prompts import ChatPromptTemplate\n",
    "from langchain.chains import create_retrieval_chain\n",
    "from langchain_community.vectorstores import FAISS\n",
    "from langchain_community.document_loaders import PyPDFDirectoryLoader\n",
    "from dotenv import load_dotenv"
   ]
  },
  {
   "cell_type": "code",
   "execution_count": 18,
   "id": "cc61cf7b",
   "metadata": {},
   "outputs": [],
   "source": [
    "os.environ[\"GROQ_API\"] = os.getenv(\"GROQ_API\")\n",
    "\n",
    "groq_api=os.getenv(\"GROQ_API\")\n",
    "\n",
    "llm=ChatGroq(groq_api_key=groq_api,model_name='Llama3-8b-8192')\n",
    "prompt=ChatPromptTemplate.from_template(\n",
    "    \"\"\"\n",
    "    Answer the question based on the context provided.\n",
    "    Please provide the most accurate answer response based on the question and context.\n",
    "    <context>\n",
    "    {context}\n",
    "    </context>\n",
    "    Question:{input}\n",
    "\n",
    "    \"\"\" \n",
    "\n",
    ")"
   ]
  },
  {
   "cell_type": "code",
   "execution_count": null,
   "id": "19238195",
   "metadata": {},
   "outputs": [],
   "source": [
    "embeddings = OllamaEmbeddings()\n",
    "loader = PyPDFDirectoryLoader(\"pdfs\")\n",
    "docs = st.session_state.loader.load()\n",
    "text_splitter = RecursiveCharacterTextSplitter(chunk_size=1000, chunk_overlap=200)\n",
    "final_documents=st.session_state.text_splitter.split_documents(st.session_state.docs[:50])\n",
    "vectors=FAISS.from_documents(st.session_state.final_documents,st.session_state.embeddings)"
   ]
  },
  {
   "cell_type": "code",
   "execution_count": 20,
   "id": "82d75f9f",
   "metadata": {},
   "outputs": [],
   "source": [
    "vectorstore = FAISS.load_local(\n",
    "    \"vectors\", \n",
    "    embeddings, \n",
    "    allow_dangerous_deserialization=True\n",
    ")\n"
   ]
  },
  {
   "cell_type": "code",
   "execution_count": 21,
   "id": "52757f87",
   "metadata": {},
   "outputs": [
    {
     "data": {
      "text/plain": [
       "'Based on the context provided, noisy data is mentioned in the Data Cleaning as a Process section (Data scrubbing: use simple domain knowledge (e.g., postal code, spell-check) to detect errors and make corrections). Noisy data likely refers to data that contains errors or inconsistencies, such as typos, incorrect values, or irrelevant information. Data scrubbing is a process used to detect and correct these errors to improve data quality.'"
      ]
     },
     "execution_count": 21,
     "metadata": {},
     "output_type": "execute_result"
    }
   ],
   "source": [
    "user_prompt=\"what is noisy data\"\n",
    "document_chain=create_stuff_documents_chain(llm,prompt)\n",
    "retriever=vectorstore.as_retriever()\n",
    "retrievel_chain=create_retrieval_chain(retriever,document_chain)\n",
    "response=retrievel_chain.invoke({'input':user_prompt})\n",
    "response['answer']"
   ]
  },
  {
   "cell_type": "code",
   "execution_count": null,
   "id": "6ff640fc",
   "metadata": {},
   "outputs": [],
   "source": []
  }
 ],
 "metadata": {
  "language_info": {
   "name": "python"
  }
 },
 "nbformat": 4,
 "nbformat_minor": 5
}
